{
 "cells": [
  {
   "cell_type": "code",
   "execution_count": 1,
   "metadata": {},
   "outputs": [],
   "source": [
    "import pandas as pd\n",
    "import matplotlib.pyplot as plt\n",
    "import seaborn as sns"
   ]
  },
  {
   "cell_type": "markdown",
   "metadata": {},
   "source": [
    "### Creating Dataframes by Loading CSV Files"
   ]
  },
  {
   "cell_type": "code",
   "execution_count": 2,
   "metadata": {},
   "outputs": [
    {
     "data": {
      "text/html": [
       "<div>\n",
       "<style scoped>\n",
       "    .dataframe tbody tr th:only-of-type {\n",
       "        vertical-align: middle;\n",
       "    }\n",
       "\n",
       "    .dataframe tbody tr th {\n",
       "        vertical-align: top;\n",
       "    }\n",
       "\n",
       "    .dataframe thead th {\n",
       "        text-align: right;\n",
       "    }\n",
       "</style>\n",
       "<table border=\"1\" class=\"dataframe\">\n",
       "  <thead>\n",
       "    <tr style=\"text-align: right;\">\n",
       "      <th></th>\n",
       "      <th>LLM</th>\n",
       "      <th>Benchmark prompt</th>\n",
       "      <th>Execution time (s)</th>\n",
       "      <th>CPU Energy (J)</th>\n",
       "      <th>RAM Energy (J)</th>\n",
       "      <th>GPU Energy (J)</th>\n",
       "      <th>CPU Power (W)</th>\n",
       "      <th>RAM Power (W)</th>\n",
       "      <th>GPU Power (W)</th>\n",
       "      <th>CO2 emissions (Kg)</th>\n",
       "      <th>CO2 emissions rate (Kg/s)</th>\n",
       "      <th>MBPP+ pass@1</th>\n",
       "    </tr>\n",
       "  </thead>\n",
       "  <tbody>\n",
       "    <tr>\n",
       "      <th>0</th>\n",
       "      <td>llama-2-7b.Q2_K</td>\n",
       "      <td>Mbpp/2</td>\n",
       "      <td>27.474275</td>\n",
       "      <td>618.151610</td>\n",
       "      <td>149.778231</td>\n",
       "      <td>-36.356029</td>\n",
       "      <td>22.5</td>\n",
       "      <td>5.794056</td>\n",
       "      <td>26.037183</td>\n",
       "      <td>0.000045</td>\n",
       "      <td>1.620237e-06</td>\n",
       "      <td>0.037</td>\n",
       "    </tr>\n",
       "    <tr>\n",
       "      <th>1</th>\n",
       "      <td>llama-2-7b.Q2_K</td>\n",
       "      <td>Mbpp/3</td>\n",
       "      <td>27.225289</td>\n",
       "      <td>612.561108</td>\n",
       "      <td>148.171252</td>\n",
       "      <td>-57.004046</td>\n",
       "      <td>22.5</td>\n",
       "      <td>5.794056</td>\n",
       "      <td>27.617270</td>\n",
       "      <td>0.000043</td>\n",
       "      <td>1.572821e-06</td>\n",
       "      <td>0.037</td>\n",
       "    </tr>\n",
       "    <tr>\n",
       "      <th>2</th>\n",
       "      <td>llama-2-7b.Q2_K</td>\n",
       "      <td>Mbpp/4</td>\n",
       "      <td>43.174038</td>\n",
       "      <td>971.403226</td>\n",
       "      <td>240.597236</td>\n",
       "      <td>229.255183</td>\n",
       "      <td>22.5</td>\n",
       "      <td>5.794056</td>\n",
       "      <td>24.876322</td>\n",
       "      <td>0.000088</td>\n",
       "      <td>2.031258e-06</td>\n",
       "      <td>0.037</td>\n",
       "    </tr>\n",
       "    <tr>\n",
       "      <th>3</th>\n",
       "      <td>llama-2-7b.Q2_K</td>\n",
       "      <td>Mbpp/6</td>\n",
       "      <td>16.692756</td>\n",
       "      <td>375.577766</td>\n",
       "      <td>87.136298</td>\n",
       "      <td>-292.893234</td>\n",
       "      <td>22.5</td>\n",
       "      <td>5.794056</td>\n",
       "      <td>0.000000</td>\n",
       "      <td>0.000010</td>\n",
       "      <td>6.190270e-07</td>\n",
       "      <td>0.037</td>\n",
       "    </tr>\n",
       "    <tr>\n",
       "      <th>4</th>\n",
       "      <td>llama-2-7b.Q2_K</td>\n",
       "      <td>Mbpp/7</td>\n",
       "      <td>13.824301</td>\n",
       "      <td>311.043726</td>\n",
       "      <td>80.090345</td>\n",
       "      <td>241.476193</td>\n",
       "      <td>22.5</td>\n",
       "      <td>5.794056</td>\n",
       "      <td>17.468861</td>\n",
       "      <td>0.000038</td>\n",
       "      <td>2.784452e-06</td>\n",
       "      <td>0.037</td>\n",
       "    </tr>\n",
       "  </tbody>\n",
       "</table>\n",
       "</div>"
      ],
      "text/plain": [
       "               LLM Benchmark prompt  Execution time (s)  CPU Energy (J)  \\\n",
       "0  llama-2-7b.Q2_K           Mbpp/2           27.474275      618.151610   \n",
       "1  llama-2-7b.Q2_K           Mbpp/3           27.225289      612.561108   \n",
       "2  llama-2-7b.Q2_K           Mbpp/4           43.174038      971.403226   \n",
       "3  llama-2-7b.Q2_K           Mbpp/6           16.692756      375.577766   \n",
       "4  llama-2-7b.Q2_K           Mbpp/7           13.824301      311.043726   \n",
       "\n",
       "   RAM Energy (J)  GPU Energy (J)  CPU Power (W)  RAM Power (W)  \\\n",
       "0      149.778231      -36.356029           22.5       5.794056   \n",
       "1      148.171252      -57.004046           22.5       5.794056   \n",
       "2      240.597236      229.255183           22.5       5.794056   \n",
       "3       87.136298     -292.893234           22.5       5.794056   \n",
       "4       80.090345      241.476193           22.5       5.794056   \n",
       "\n",
       "   GPU Power (W)  CO2 emissions (Kg)  CO2 emissions rate (Kg/s)  MBPP+ pass@1  \n",
       "0      26.037183            0.000045               1.620237e-06         0.037  \n",
       "1      27.617270            0.000043               1.572821e-06         0.037  \n",
       "2      24.876322            0.000088               2.031258e-06         0.037  \n",
       "3       0.000000            0.000010               6.190270e-07         0.037  \n",
       "4      17.468861            0.000038               2.784452e-06         0.037  "
      ]
     },
     "execution_count": 2,
     "metadata": {},
     "output_type": "execute_result"
    }
   ],
   "source": [
    "df_mbpp = pd.read_csv('measurements_mbpp.csv')\n",
    "df_mbpp.head()"
   ]
  },
  {
   "cell_type": "markdown",
   "metadata": {},
   "source": [
    "### Calculating mean values for MBPP+"
   ]
  },
  {
   "cell_type": "code",
   "execution_count": 3,
   "metadata": {},
   "outputs": [
    {
     "data": {
      "text/html": [
       "<div>\n",
       "<style scoped>\n",
       "    .dataframe tbody tr th:only-of-type {\n",
       "        vertical-align: middle;\n",
       "    }\n",
       "\n",
       "    .dataframe tbody tr th {\n",
       "        vertical-align: top;\n",
       "    }\n",
       "\n",
       "    .dataframe thead th {\n",
       "        text-align: right;\n",
       "    }\n",
       "</style>\n",
       "<table border=\"1\" class=\"dataframe\">\n",
       "  <thead>\n",
       "    <tr style=\"text-align: right;\">\n",
       "      <th></th>\n",
       "      <th>LLM</th>\n",
       "      <th>CPU Energy (J)</th>\n",
       "      <th>Execution time (s)</th>\n",
       "      <th>MBPP+ pass@1</th>\n",
       "    </tr>\n",
       "  </thead>\n",
       "  <tbody>\n",
       "    <tr>\n",
       "      <th>0</th>\n",
       "      <td>llama-2-7b.Q2_K</td>\n",
       "      <td>703.598573</td>\n",
       "      <td>31.271554</td>\n",
       "      <td>0.037</td>\n",
       "    </tr>\n",
       "    <tr>\n",
       "      <th>1</th>\n",
       "      <td>llama-2-7b.Q3_K_L</td>\n",
       "      <td>761.106073</td>\n",
       "      <td>33.827484</td>\n",
       "      <td>0.042</td>\n",
       "    </tr>\n",
       "  </tbody>\n",
       "</table>\n",
       "</div>"
      ],
      "text/plain": [
       "                 LLM  CPU Energy (J)  Execution time (s)  MBPP+ pass@1\n",
       "0    llama-2-7b.Q2_K      703.598573           31.271554         0.037\n",
       "1  llama-2-7b.Q3_K_L      761.106073           33.827484         0.042"
      ]
     },
     "execution_count": 3,
     "metadata": {},
     "output_type": "execute_result"
    }
   ],
   "source": [
    "#TODO: Quando tiver várias execuções de um dado prompt, remover os outliers de cada medição\n",
    "\n",
    "# Define a custom function to remove outliers and specified number of best and worst entries\n",
    "def remove_extremes(group, n):\n",
    "    sorted_group = group.sort_values(by='CPU Energy (J)')\n",
    "    trimmed_group = sorted_group.iloc[n:-n]  # Remove the specified number of best and worst entries\n",
    "    return trimmed_group\n",
    "\n",
    "# Grouping by 'LLM' and 'Benchmark prompt' and applying the custom function\n",
    "n_outliers = 1  # Number of outliers to remove\n",
    "cleaned_df_mbpp = df_mbpp.groupby(['LLM'], group_keys=False).apply(remove_extremes, n=n_outliers).reset_index(drop=True)\n",
    "\n",
    "# Calculating the mean values for 'CPU Energy (J)' and 'MBPP' after removing extremes\n",
    "mean_cleaned_df_mbpp = cleaned_df_mbpp.groupby(['LLM']).agg(\n",
    "    {\n",
    "        'CPU Energy (J)': 'mean', \n",
    "        'Execution time (s)': 'mean', \n",
    "        'MBPP+ pass@1': 'mean'\n",
    "    }).reset_index()\n",
    "\n",
    "# Renaming the columns for clarity\n",
    "mean_cleaned_df_mbpp.columns = ['LLM', 'CPU Energy (J)', 'Execution time (s)', 'MBPP+ pass@1']\n",
    "mean_cleaned_df_mbpp\n",
    "\n"
   ]
  },
  {
   "cell_type": "markdown",
   "metadata": {},
   "source": [
    "### MBBP graphs"
   ]
  },
  {
   "cell_type": "code",
   "execution_count": 4,
   "metadata": {},
   "outputs": [
    {
     "data": {
      "text/html": [
       "<div>\n",
       "<style scoped>\n",
       "    .dataframe tbody tr th:only-of-type {\n",
       "        vertical-align: middle;\n",
       "    }\n",
       "\n",
       "    .dataframe tbody tr th {\n",
       "        vertical-align: top;\n",
       "    }\n",
       "\n",
       "    .dataframe thead th {\n",
       "        text-align: right;\n",
       "    }\n",
       "</style>\n",
       "<table border=\"1\" class=\"dataframe\">\n",
       "  <thead>\n",
       "    <tr style=\"text-align: right;\">\n",
       "      <th></th>\n",
       "      <th>LLM</th>\n",
       "      <th>CPU Energy (J)</th>\n",
       "      <th>Execution time (s)</th>\n",
       "      <th>MBPP+ pass@1</th>\n",
       "    </tr>\n",
       "  </thead>\n",
       "  <tbody>\n",
       "    <tr>\n",
       "      <th>0</th>\n",
       "      <td>llama-2-7b.Q2_K</td>\n",
       "      <td>703.598573</td>\n",
       "      <td>31.271554</td>\n",
       "      <td>0.037</td>\n",
       "    </tr>\n",
       "    <tr>\n",
       "      <th>1</th>\n",
       "      <td>llama-2-7b.Q3_K_L</td>\n",
       "      <td>761.106073</td>\n",
       "      <td>33.827484</td>\n",
       "      <td>0.042</td>\n",
       "    </tr>\n",
       "  </tbody>\n",
       "</table>\n",
       "</div>"
      ],
      "text/plain": [
       "                 LLM  CPU Energy (J)  Execution time (s)  MBPP+ pass@1\n",
       "0    llama-2-7b.Q2_K      703.598573           31.271554         0.037\n",
       "1  llama-2-7b.Q3_K_L      761.106073           33.827484         0.042"
      ]
     },
     "execution_count": 4,
     "metadata": {},
     "output_type": "execute_result"
    }
   ],
   "source": [
    "mean_cleaned_df_mbpp"
   ]
  },
  {
   "cell_type": "code",
   "execution_count": 5,
   "metadata": {},
   "outputs": [
    {
     "data": {
      "image/png": "[encoded data removed]",
      "text/plain": [
       "<Figure size 1000x600 with 1 Axes>"
      ]
     },
     "metadata": {},
     "output_type": "display_data"
    }
   ],
   "source": [
    "import numpy as np\n",
    "\n",
    "# Cores aleatórias para cada LLM\n",
    "llm_colors = {llm: np.random.rand(3,) for llm in mean_cleaned_df_mbpp[\"LLM\"]}\n",
    "\n",
    "# Criar o gráfico de dispersão\n",
    "plt.figure(figsize=(10, 6))\n",
    "for i, llm in enumerate(mean_cleaned_df_mbpp[\"LLM\"]):\n",
    "    plt.scatter(mean_cleaned_df_mbpp[\"CPU Energy (J)\"][i], mean_cleaned_df_mbpp[\"Execution time (s)\"][i], color=llm_colors[llm], s=mean_cleaned_df_mbpp[\"MBPP+ pass@1\"][i] * 1000, alpha=0.7)\n",
    "    plt.text(mean_cleaned_df_mbpp[\"CPU Energy (J)\"][i], mean_cleaned_df_mbpp[\"Execution time (s)\"][i], f'{llm}\\n(pass@1: {mean_cleaned_df_mbpp[\"MBPP+ pass@1\"][i]})', fontsize=9, ha='right')\n",
    "\n",
    "# Adicionar rótulos e título\n",
    "plt.xlabel('CPU Energy (J)')\n",
    "plt.ylabel('Execution time (s)')\n",
    "plt.title('CPU Energy vs Execution Time')\n",
    "\n",
    "# Mostrar o gráfico\n",
    "plt.grid(True)\n",
    "plt.show()"
   ]
  }
 ],
 "metadata": {
  "kernelspec": {
   "display_name": "Python 3",
   "language": "python",
   "name": "python3"
  },
  "language_info": {
   "codemirror_mode": {
    "name": "ipython",
    "version": 3
   },
   "file_extension": ".py",
   "mimetype": "text/x-python",
   "name": "python",
   "nbconvert_exporter": "python",
   "pygments_lexer": "ipython3",
   "version": "3.11.9"
  }
 },
 "nbformat": 4,
 "nbformat_minor": 2
}
