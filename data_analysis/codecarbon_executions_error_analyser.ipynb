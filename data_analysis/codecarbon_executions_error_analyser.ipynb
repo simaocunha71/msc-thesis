{
 "cells": [
  {
   "cell_type": "markdown",
   "metadata": {},
   "source": [
    "### 0-shot"
   ]
  },
  {
   "cell_type": "code",
   "execution_count": null,
   "metadata": {},
   "outputs": [],
   "source": [
    "import pandas as pd\n",
    "\n",
    "df = pd.read_csv('../results/humaneval_x/humaneval_x_0_shot.csv')\n",
    "df"
   ]
  },
  {
   "cell_type": "code",
   "execution_count": null,
   "metadata": {},
   "outputs": [],
   "source": [
    "# Criando a coluna \"Language\" extraindo a parte antes da barra \"/\" de \"Benchmark prompt\"\n",
    "df['Language'] = df['Benchmark prompt'].str.split('/').str[0]\n",
    "\n",
    "# Contando o número de linhas com pelo menos uma coluna contendo \"ERROR\"\n",
    "error_count = df[df.apply(lambda row: row.astype(str).str.contains('ERROR').any(), axis=1)]\n",
    "\n",
    "# Agrupando por \"LLM\" e \"Language\" e contando o número de ocorrências de \"Error\"\n",
    "error_count_grouped = error_count.groupby(['LLM', 'Language']).size().reset_index(name='Error Count')\n",
    "\n",
    "# Contando o total de linhas para cada valor de \"LLM\" no DataFrame original\n",
    "llm_total_count = df.groupby(['LLM']).size().reset_index(name='Total Count')\n",
    "\n",
    "# Mesclando o total de linhas de LLM no error_count_grouped\n",
    "error_count_grouped_final = pd.merge(error_count_grouped, llm_total_count, on='LLM', how='left')\n",
    "\n",
    "# Exibindo o resultado final\n",
    "error_count_grouped_final"
   ]
  },
  {
   "cell_type": "markdown",
   "metadata": {},
   "source": [
    "### 3-shot"
   ]
  },
  {
   "cell_type": "code",
   "execution_count": null,
   "metadata": {},
   "outputs": [],
   "source": [
    "import pandas as pd\n",
    "\n",
    "df = pd.read_csv('../results/humaneval_x_correct/humaneval_x_3_shot.csv')\n",
    "df"
   ]
  },
  {
   "cell_type": "code",
   "execution_count": null,
   "metadata": {},
   "outputs": [],
   "source": [
    "# Criando a coluna \"Language\" extraindo a parte antes da barra \"/\" de \"Benchmark prompt\"\n",
    "df['Language'] = df['Benchmark prompt'].str.split('/').str[0]\n",
    "\n",
    "# Contando o número de linhas com pelo menos uma coluna contendo \"ERROR\"\n",
    "error_count = df[df.apply(lambda row: row.astype(str).str.contains('ERROR').any(), axis=1)]\n",
    "\n",
    "# Agrupando por \"LLM\" e \"Language\" e contando o número de ocorrências de \"Error\"\n",
    "error_count_grouped = error_count.groupby(['LLM', 'Language']).size().reset_index(name='Error Count')\n",
    "\n",
    "# Contando o total de linhas para cada valor de \"LLM\" no DataFrame original\n",
    "llm_total_count = df.groupby(['LLM']).size().reset_index(name='Total Count')\n",
    "\n",
    "# Mesclando o total de linhas de LLM no error_count_grouped\n",
    "error_count_grouped_final = pd.merge(error_count_grouped, llm_total_count, on='LLM', how='left')\n",
    "\n",
    "# Exibindo o resultado final\n",
    "error_count_grouped_final"
   ]
  }
 ],
 "metadata": {
  "kernelspec": {
   "display_name": "Python 3",
   "language": "python",
   "name": "python3"
  },
  "language_info": {
   "codemirror_mode": {
    "name": "ipython",
    "version": 3
   },
   "file_extension": ".py",
   "mimetype": "text/x-python",
   "name": "python",
   "nbconvert_exporter": "python",
   "pygments_lexer": "ipython3",
   "version": "3.10.12"
  }
 },
 "nbformat": 4,
 "nbformat_minor": 2
}
